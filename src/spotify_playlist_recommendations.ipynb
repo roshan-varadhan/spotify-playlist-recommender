{
  "cells": [
    {
      "cell_type": "markdown",
      "metadata": {
        "id": "view-in-github",
        "colab_type": "text"
      },
      "source": [
        "<a href=\"https://colab.research.google.com/github/roshan-varadhan/spotify-playlist-recommender/blob/main/spotify_playlist_recommendations.ipynb\" target=\"_parent\"><img src=\"https://colab.research.google.com/assets/colab-badge.svg\" alt=\"Open In Colab\"/></a>"
      ]
    },
    {
      "cell_type": "markdown",
      "metadata": {
        "id": "-02hIAGwSuKT"
      },
      "source": [
        "##**Importing Libraries**"
      ]
    },
    {
      "cell_type": "code",
      "source": [
        "!pip install spotipy\n",
        "!pip install python-dotenv"
      ],
      "metadata": {
        "id": "swZuuuTZQBTR"
      },
      "execution_count": null,
      "outputs": []
    },
    {
      "cell_type": "code",
      "execution_count": null,
      "metadata": {
        "id": "f4gB0giqStb3"
      },
      "outputs": [],
      "source": [
        "import numpy as np\n",
        "import pandas as pd\n",
        "from sklearn.cluster import KMeans\n",
        "import matplotlib.pyplot as plt\n",
        "from sklearn.decomposition import PCA\n",
        "import spotipy\n",
        "from spotipy.oauth2 import SpotifyClientCredentials\n",
        "import time\n",
        "import os\n",
        "from dotenv import load_dotenv\n",
        "from pathlib import Path"
      ]
    },
    {
      "cell_type": "markdown",
      "source": [
        "# Connecting to Spotify"
      ],
      "metadata": {
        "id": "9-qQGKERKFPh"
      }
    },
    {
      "cell_type": "code",
      "source": [
        "#Authentication\n",
        "load_dotenv(dotenv_path=Path('/content/variables.env'))\n",
        "cid = os.getenv('CLIENT_ID')\n",
        "secret = os.getenv('CLIENT_SECRET')\n",
        "\n",
        "client_credentials_mgmt = SpotifyClientCredentials(client_id=cid, client_secret=secret)\n",
        "sp = spotipy.Spotify(client_credentials_manager = client_credentials_mgmt)"
      ],
      "metadata": {
        "id": "b8rAq3jgQTV_"
      },
      "execution_count": null,
      "outputs": []
    },
    {
      "cell_type": "markdown",
      "source": [
        "## Playlist Dataframe"
      ],
      "metadata": {
        "id": "ALVyEZSrKQ4v"
      }
    },
    {
      "cell_type": "code",
      "source": [
        "playlist_link = input(\"Enter the playlist link: \")\n",
        "\n",
        "# Extract playlist URI from the link\n",
        "playlist_URI = playlist_link.split(\"/\")[-1].split(\"?\")[0]\n",
        "\n",
        "# Function to handle retries\n",
        "def fetch_with_retry(func, *args, retries=5, delay=1, backoff=2, **kwargs):\n",
        "    for i in range(retries):\n",
        "        try:\n",
        "            return func(*args, **kwargs)\n",
        "        except spotipy.exceptions.SpotifyException as e:\n",
        "            if e.http_status == 429:\n",
        "                retry_after = int(e.headers.get('Retry-After', delay))\n",
        "                print(f\"Rate limited. Retrying in {retry_after} seconds...\")\n",
        "                time.sleep(retry_after)\n",
        "                delay *= backoff\n",
        "            else:\n",
        "                raise e\n",
        "    raise Exception(\"Max retries exceeded\")\n",
        "\n",
        "# Fetch playlist details\n",
        "playlist_details = fetch_with_retry(sp.playlist, playlist_URI)\n",
        "\n",
        "# Get playlist name and user display name\n",
        "playlist_name = playlist_details['name']\n",
        "user_display_name = playlist_details['owner']['display_name']\n",
        "\n",
        "# Fetch playlist tracks\n",
        "tracks = fetch_with_retry(sp.playlist_tracks, playlist_URI)[\"items\"]\n",
        "\n",
        "# Extract track details\n",
        "track_uris = [item[\"track\"][\"uri\"] for item in tracks]\n",
        "\n",
        "# Batch URIs for audio features\n",
        "def get_audio_features(track_uris):\n",
        "    audio_features = []\n",
        "    for i in range(0, len(track_uris), 100):\n",
        "        batch = track_uris[i:i+100]\n",
        "        features = fetch_with_retry(sp.audio_features, batch)\n",
        "        audio_features.extend(features)\n",
        "    return audio_features\n",
        "\n",
        "# Fetch audio features for the tracks\n",
        "audio_features = get_audio_features(track_uris)\n",
        "\n",
        "# Combine track details with audio features\n",
        "track_data = []\n",
        "for item, features in zip(tracks, audio_features):\n",
        "    if features:\n",
        "      track = item[\"track\"]\n",
        "      track_name = track[\"name\"]\n",
        "      artist_name = track[\"artists\"][0][\"name\"]  # Assuming the first artist is the main artist\n",
        "      track_uri = track[\"uri\"]\n",
        "\n",
        "      # Fetch audio features for the track\n",
        "      audio_features = sp.audio_features(track_uri)[0]\n",
        "      danceability = audio_features['danceability']\n",
        "      energy = audio_features['energy']\n",
        "      liveliness = audio_features['liveness']\n",
        "      key = audio_features['key']\n",
        "      mode = audio_features['mode']\n",
        "      loudness = audio_features['loudness']\n",
        "      speechiness = audio_features['speechiness']\n",
        "      acousticness = audio_features['acousticness']\n",
        "      instrumentalness = audio_features['instrumentalness']\n",
        "      valence = audio_features['valence']\n",
        "\n",
        "      track_data.append([track_name, artist_name, danceability, energy, liveliness, key, mode, loudness, speechiness, acousticness, instrumentalness, valence])\n",
        "\n",
        "# Create a DataFrame\n",
        "df_playlist = pd.DataFrame(track_data, columns=[\"Track Name\", \"Artist\", \"Danceability\", \"Energy\", \"Liveliness\",\"Key\",\"Mode\",\"Loudness\",\"Speechiness\",\"Acousticness\",\"Instrumentalness\",\"Valence\"])\n",
        "df_playlist.head()"
      ],
      "metadata": {
        "id": "wv_u96ujRlS3"
      },
      "execution_count": null,
      "outputs": []
    },
    {
      "cell_type": "markdown",
      "metadata": {
        "id": "UERTw4criZmq"
      },
      "source": [
        "## Loading the Data into a Pandas DataFrame"
      ]
    },
    {
      "cell_type": "code",
      "execution_count": null,
      "metadata": {
        "id": "ZhxQCP2WiaDQ"
      },
      "outputs": [],
      "source": [
        "df = pd.read_csv(\"playlist_2010to2023.csv\", encoding='latin-1')\n",
        "df.dropna(inplace=True)\n",
        "# Drop Unnecessary Columns\n",
        "df.drop(['year','artist_genres','playlist_url','track_id','track_popularity','artist_id','artist_popularity','time_signature', 'duration_ms'], axis=1, inplace=True)\n",
        "df.head()\n"
      ]
    },
    {
      "cell_type": "markdown",
      "metadata": {
        "id": "NWXdRqSNBHGe"
      },
      "source": [
        "## Dropping Features and Combining Data"
      ]
    },
    {
      "cell_type": "code",
      "execution_count": null,
      "metadata": {
        "id": "0IwtY0Xfifd5"
      },
      "outputs": [],
      "source": [
        "# Create a new DataFrame with only necessary columns\n",
        "dropped_df = df[['danceability','energy','key','loudness','mode','speechiness','acousticness','instrumentalness','liveness','valence','tempo']]\n",
        "\n",
        "\n",
        "# Congregate playlist averages into one representative 'song' to be used for comparison\n",
        "dropped_df_playlist = dropped_df.drop(['Track Name', 'Artist'])\n",
        "means= dropped_df_playlist.mean()\n",
        "dropped_df.loc[len(dropped_df.index)] = means\n",
        "df.loc[len(df.index)] = [playlist_name,'', user_display_name, means['danceability'], means['energy'], means['key'], means['loudness'], means['mode'], means['speechiness'], means['acousticness'], means['instrumentalness'], means['liveness'], means['valence'], means['tempo']]"
      ]
    },
    {
      "cell_type": "code",
      "execution_count": null,
      "metadata": {
        "id": "ER1smI68jUH5"
      },
      "outputs": [],
      "source": [
        "# Normalizing numerical feature columns\n",
        "numerical_columns = ['loudness', 'tempo','key']\n",
        "\n",
        "# Create a copy of the dropped_df\n",
        "final_df = dropped_df\n",
        "\n",
        "# Apply min-max scaling to the selected numerical feature columns\n",
        "final_df[numerical_columns] = (dropped_df[numerical_columns] - dropped_df[numerical_columns].min()) / (dropped_df[numerical_columns].max() - dropped_df[numerical_columns].min())\n",
        "final_df"
      ]
    },
    {
      "cell_type": "markdown",
      "source": [
        "# Data Analyzation"
      ],
      "metadata": {
        "id": "mmEMlPLZKpCg"
      }
    },
    {
      "cell_type": "markdown",
      "metadata": {
        "id": "Y-lEuLmhjVqK"
      },
      "source": [
        "## Clustering the Data"
      ]
    },
    {
      "cell_type": "code",
      "execution_count": null,
      "metadata": {
        "id": "1Z1C_LkgjZPj"
      },
      "outputs": [],
      "source": [
        "# Function that works out optimum number of clusters\n",
        "def optimise_k_means(data, max_k):\n",
        "    means = []\n",
        "    inertias = []\n",
        "\n",
        "    for k in range(1, max_k+1):\n",
        "        kmeans = KMeans(n_clusters=k, n_init=max_k)\n",
        "        kmeans.fit(data)\n",
        "\n",
        "        means.append(k)\n",
        "        inertias.append(kmeans.inertia_)\n",
        "\n",
        "    # Generate the elbow plot\n",
        "    plt.figure(figsize=(10, 5))  # Create a new figure\n",
        "    plt.plot(means, inertias, 'o-')\n",
        "    plt.xlabel('Number of Clusters')\n",
        "    plt.ylabel('Inertia')\n",
        "    plt.grid(True)\n",
        "    plt.show()"
      ]
    },
    {
      "cell_type": "code",
      "execution_count": null,
      "metadata": {
        "id": "sZAGgmv1jcBQ"
      },
      "outputs": [],
      "source": [
        "optimise_k_means(final_df, 10)"
      ]
    },
    {
      "cell_type": "markdown",
      "metadata": {
        "id": "2gsd_qfrjezP"
      },
      "source": [
        "## Applying K-Means Clustering"
      ]
    },
    {
      "cell_type": "code",
      "execution_count": null,
      "metadata": {
        "id": "JmKZ9sITjgkS"
      },
      "outputs": [],
      "source": [
        "# Initialize a KMeans model with 4 clusters\n",
        "kmeans = KMeans(n_clusters=10, n_init='auto')\n",
        "\n",
        "# Fit the KMeans model to the data in 'final_df'\n",
        "kmeans.fit(final_df)\n",
        "\n",
        "# Assign cluster labels to each data point and add the 'Cluster' column to the original DataFrame\n",
        "df['Cluster'] = kmeans.labels_\n",
        "final_df['Cluster'] = kmeans.labels_"
      ]
    },
    {
      "cell_type": "markdown",
      "metadata": {
        "id": "iu1yvl_4jkDD"
      },
      "source": [
        "## Model Visualization"
      ]
    },
    {
      "cell_type": "code",
      "execution_count": null,
      "metadata": {
        "id": "5Cd1NT2ZjmQ5"
      },
      "outputs": [],
      "source": [
        "# Perform PCA for dimensionality reduction\n",
        "pca = PCA(n_components=2)\n",
        "reduced_features = pca.fit_transform(final_df.drop('Cluster', axis=1)) # Exclude the cluster labels\n",
        "\n",
        "# Add the reduced components to the DataFrame\n",
        "final_df['pca_1'] = reduced_features[:, 0]\n",
        "final_df['pca_2'] = reduced_features[:, 1]\n",
        "\n",
        "# Create a scatter plot\n",
        "plt.scatter(final_df['pca_1'], final_df['pca_2'], c=final_df['Cluster'], cmap='viridis')\n",
        "plt.title('KMeans Clustering Results using PCA')\n",
        "plt.xlabel('Principal Component 1')\n",
        "plt.ylabel('Principal Component 2')\n",
        "plt.show()"
      ]
    },
    {
      "cell_type": "markdown",
      "metadata": {
        "id": "8DT3T8r-jpFf"
      },
      "source": [
        "## Song Recommendations"
      ]
    },
    {
      "source": [
        "def find_song_recommendation(track_name, df):\n",
        "    try:\n",
        "        # Attempt to find the index of the first occurence of 'track_name' in the 'Track' column of 'df'\n",
        "        track_index = df[df['track_name'] == track_name].index[0]\n",
        "\n",
        "        # Create a filter to select rows in 'df' that belong to the same cluster as the provided track\n",
        "        filter = (df['Cluster'] == df.loc[track_index]['Cluster'])\n",
        "\n",
        "        # Apply the filter to 'df' to get a DataFrame containing songs from the same cluster\n",
        "        filtered_df = df[filter]\n",
        "\n",
        "        # Generate song recommendations by randomly selecting tracks from the same cluster\n",
        "        for i in range(50):\n",
        "            # Randomly sample a track from the shuffled DataFrame\n",
        "            recommendation = filtered_df.sample()\n",
        "            # Print the recommended track's title and artist\n",
        "            print(\"'\" + recommendation.iloc[0]['track_name'] + \"' by \" + recommendation.iloc[0]['artist_name'])\n",
        "    except:\n",
        "      print(\"Track not found in the dataset.\")"
      ],
      "cell_type": "code",
      "metadata": {
        "id": "maSjXN4ODpte"
      },
      "execution_count": null,
      "outputs": []
    },
    {
      "cell_type": "code",
      "execution_count": null,
      "metadata": {
        "id": "7OjNJhwBju-a"
      },
      "outputs": [],
      "source": [
        "find_song_recommendation(playlist_name, df)"
      ]
    }
  ],
  "metadata": {
    "colab": {
      "provenance": [],
      "include_colab_link": true
    },
    "kernelspec": {
      "display_name": "Python 3",
      "name": "python3"
    },
    "language_info": {
      "codemirror_mode": {
        "name": "ipython",
        "version": 3
      },
      "file_extension": ".py",
      "mimetype": "text/x-python",
      "name": "python",
      "nbconvert_exporter": "python",
      "pygments_lexer": "ipython3",
      "version": "3.11.5"
    }
  },
  "nbformat": 4,
  "nbformat_minor": 0
}
